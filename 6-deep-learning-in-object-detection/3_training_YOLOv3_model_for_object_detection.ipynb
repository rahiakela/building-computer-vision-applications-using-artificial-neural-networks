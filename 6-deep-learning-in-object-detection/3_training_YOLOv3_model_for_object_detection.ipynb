{
  "nbformat": 4,
  "nbformat_minor": 0,
  "metadata": {
    "colab": {
      "name": "3-training-YOLOv3-model-for-object-detection.ipynb",
      "provenance": [],
      "toc_visible": true,
      "authorship_tag": "ABX9TyNJMBRqXNzo4WYPy4MBr8Ge",
      "include_colab_link": true
    },
    "kernelspec": {
      "name": "python3",
      "display_name": "Python 3"
    },
    "accelerator": "GPU"
  },
  "cells": [
    {
      "cell_type": "markdown",
      "metadata": {
        "id": "view-in-github",
        "colab_type": "text"
      },
      "source": [
        "<a href=\"https://colab.research.google.com/github/rahiakela/building-computer-vision-applications-using-artificial-neural-networks/blob/master/6-deep-learning-in-object-detection/3_training_YOLOv3_model_for_object_detection.ipynb\" target=\"_parent\"><img src=\"https://colab.research.google.com/assets/colab-badge.svg\" alt=\"Open In Colab\"/></a>"
      ]
    },
    {
      "cell_type": "markdown",
      "metadata": {
        "id": "sikCBUVyiD79"
      },
      "source": [
        "# Training a YOLOv3 Model for Object Detection"
      ]
    },
    {
      "cell_type": "markdown",
      "metadata": {
        "id": "_LJR1KskiRLk"
      },
      "source": [
        "YOLOv3 is the youngest of all the object detection algorithms.It has not made it to the TensorFlow object detection API yet.YOLOv3 uses the Darknet-53 architecture to train the model.\n",
        "\n",
        "We will use the official API and weights of the pretrained model to perform transfer learning of our YOLOv3 model from the same Oxford-IIIT Pet dataset that we used in the previous SSD model. We will run the training on Google Colab and use a GPU hardware accelerator."
      ]
    },
    {
      "cell_type": "markdown",
      "metadata": {
        "id": "U7JIoxCfiq2f"
      },
      "source": [
        "## Installing the Darknet Framework"
      ]
    },
    {
      "cell_type": "markdown",
      "metadata": {
        "id": "SyqDop9eirtJ"
      },
      "source": [
        "Darknet is an open source neural network framework written in C and CUDA that runs on both CPUs and GPUs. First, clone the Darknet GitHub repository and then build the source."
      ]
    },
    {
      "cell_type": "code",
      "metadata": {
        "id": "O00SkYDYiwBj",
        "outputId": "7c712cb1-d4fa-4d9d-f269-5813b9448233",
        "colab": {
          "base_uri": "https://localhost:8080/"
        }
      },
      "source": [
        "%%shell\n",
        "\n",
        "git clone https://github.com/ansarisam/darknet.git\n",
        "# Official repository\n",
        "#git clone https://github.com/pjreddie/darknet.git"
      ],
      "execution_count": 1,
      "outputs": [
        {
          "output_type": "stream",
          "text": [
            "Cloning into 'darknet'...\n",
            "remote: Enumerating objects: 5912, done.\u001b[K\n",
            "remote: Total 5912 (delta 0), reused 0 (delta 0), pack-reused 5912\u001b[K\n",
            "Receiving objects: 100% (5912/5912), 6.34 MiB | 18.50 MiB/s, done.\n",
            "Resolving deltas: 100% (3919/3919), done.\n"
          ],
          "name": "stdout"
        },
        {
          "output_type": "execute_result",
          "data": {
            "text/plain": [
              ""
            ]
          },
          "metadata": {
            "tags": []
          },
          "execution_count": 1
        }
      ]
    },
    {
      "cell_type": "markdown",
      "metadata": {
        "id": "vdImVaJakN1c"
      },
      "source": [
        "After the repository is cloned, expand the file browser, navigate to the darknet\n",
        "directory, and download the Makefile to your local computer. Edit the Makefile\n",
        "(highlighted in bold letters) and change GPU=1 and OPENCV=1, as shown here:\n",
        "\n",
        "```c\n",
        "GPU=1\n",
        "CUDNN=0\n",
        "OPENCV=1\n",
        "OPENMP=0\n",
        "DEBUG=0\n",
        "```\n",
        "\n",
        "Make sure no other change is made to the Makefile, or you may have trouble\n",
        "building your Darknet code.\n",
        "\n",
        "Now we are ready to build the Darknet framework."
      ]
    },
    {
      "cell_type": "code",
      "metadata": {
        "id": "68Jg-uA4kFCG"
      },
      "source": [
        "# Running the make Command to Build Darknet\n",
        "%%shell\n",
        "cd darknet/\n",
        "make"
      ],
      "execution_count": null,
      "outputs": []
    },
    {
      "cell_type": "markdown",
      "metadata": {
        "id": "mL2t2rcklT1x"
      },
      "source": [
        "After the build process successfully completes, run the below command to test your installation. \n",
        "\n",
        "It should print `usage: ./darknet <function>` if the installation is successful."
      ]
    },
    {
      "cell_type": "code",
      "metadata": {
        "id": "zLdsENvUlGCO",
        "outputId": "14ef759e-45f2-4a6e-e837-58c3646740bf",
        "colab": {
          "base_uri": "https://localhost:8080/"
        }
      },
      "source": [
        "# Testing the Darknet Installation\n",
        "%%shell\n",
        "cd darknet\n",
        "./darknet"
      ],
      "execution_count": 3,
      "outputs": [
        {
          "output_type": "stream",
          "text": [
            "usage: ./darknet <function>\n"
          ],
          "name": "stdout"
        },
        {
          "output_type": "execute_result",
          "data": {
            "text/plain": [
              ""
            ]
          },
          "metadata": {
            "tags": []
          },
          "execution_count": 3
        }
      ]
    },
    {
      "cell_type": "markdown",
      "metadata": {
        "id": "lFQ4oLcgmEyM"
      },
      "source": [
        "## Downloading Pre-trained Convolutional Weights"
      ]
    },
    {
      "cell_type": "markdown",
      "metadata": {
        "id": "sxir3Q6WmFh9"
      },
      "source": [
        "Let's downloads pre-trained weights of the COCO dataset trained on the\n",
        "Darknet-53 framework."
      ]
    },
    {
      "cell_type": "code",
      "metadata": {
        "id": "FlATwoGflnuM",
        "outputId": "1972e088-4bd4-4770-ad9c-951bd47198b1",
        "colab": {
          "base_uri": "https://localhost:8080/"
        }
      },
      "source": [
        "# Downloading Pre-trained Darknet-53 Weights\n",
        "%%shell\n",
        "mkdir pretrained\n",
        "cd pretrained\n",
        "wget https://pjreddie.com/media/files/darknet53.conv.74"
      ],
      "execution_count": 4,
      "outputs": [
        {
          "output_type": "stream",
          "text": [
            "--2020-11-30 10:01:06--  https://pjreddie.com/media/files/darknet53.conv.74\n",
            "Resolving pjreddie.com (pjreddie.com)... 128.208.4.108\n",
            "Connecting to pjreddie.com (pjreddie.com)|128.208.4.108|:443... connected.\n",
            "HTTP request sent, awaiting response... 200 OK\n",
            "Length: 162482580 (155M) [application/octet-stream]\n",
            "Saving to: ‘darknet53.conv.74’\n",
            "\n",
            "darknet53.conv.74   100%[===================>] 154.96M   161KB/s    in 12m 35s \n",
            "\n",
            "2020-11-30 10:13:42 (210 KB/s) - ‘darknet53.conv.74’ saved [162482580/162482580]\n",
            "\n"
          ],
          "name": "stdout"
        },
        {
          "output_type": "execute_result",
          "data": {
            "text/plain": [
              ""
            ]
          },
          "metadata": {
            "tags": []
          },
          "execution_count": 4
        }
      ]
    },
    {
      "cell_type": "markdown",
      "metadata": {
        "id": "C_PjDkGAmW7n"
      },
      "source": [
        "## Downloading an Annotated Oxford-IIIT Pet Dataset"
      ]
    },
    {
      "cell_type": "markdown",
      "metadata": {
        "id": "Da6fdSbzmZXN"
      },
      "source": [
        "Let's downloads the pet dataset with both the images and annotations."
      ]
    },
    {
      "cell_type": "code",
      "metadata": {
        "id": "XFB0ps4UmUS4"
      },
      "source": [
        "# Downloading the Pet Dataset Images and Annotations\n",
        "%%shell\n",
        "\n",
        "mkdir petdata\n",
        "cd petdata\n",
        "\n",
        "wget http://www.robots.ox.ac.uk/~vgg/data/pets/data/images.tar.gz\n",
        "wget http://www.robots.ox.ac.uk/~vgg/data/pets/data/annotations.tar.gz\n",
        "\n",
        "tar -xvf images.tar.gz\n",
        "tar -xvf annotations.tar.gz"
      ],
      "execution_count": null,
      "outputs": []
    },
    {
      "cell_type": "markdown",
      "metadata": {
        "id": "-jX-1J69m-2Q"
      },
      "source": [
        "The images directory contains a few files with the extension .mat, which\n",
        "causes the training to break. So need to remove these .mat files."
      ]
    },
    {
      "cell_type": "code",
      "metadata": {
        "id": "RhcbqGP-nDJi",
        "outputId": "7adbc996-e66c-40d7-8cb1-dd602a0c91f5",
        "colab": {
          "base_uri": "https://localhost:8080/"
        }
      },
      "source": [
        "# Deleting the Invalid File Extension .mat\n",
        "%%shell\n",
        "\n",
        "cd /content/petdata/images\n",
        "rm *.mat"
      ],
      "execution_count": 6,
      "outputs": [
        {
          "output_type": "execute_result",
          "data": {
            "text/plain": [
              ""
            ]
          },
          "metadata": {
            "tags": []
          },
          "execution_count": 6
        }
      ]
    },
    {
      "cell_type": "markdown",
      "metadata": {
        "id": "DgK3rcFpnNSm"
      },
      "source": [
        "## Preparing the Dataset"
      ]
    },
    {
      "cell_type": "markdown",
      "metadata": {
        "id": "bFQkqeVOnRaB"
      },
      "source": [
        "The YOLOv3 training API expects the dataset to have a certain format and directory structure. The pet data that we downloaded has two subdirectories:\n",
        "\n",
        "- **images** and \n",
        "- **annotations**. \n",
        "\n",
        "The images directory contains all the labeled images that we will use for\n",
        "training and testing. The annotations directory contains annotation files in XML format, one XML file per image.\n",
        "\n",
        "YOLOv3 expects the following files:\n",
        "\n",
        "- **train.txt**: This file contains the absolute path of images—one image path\n",
        "per line—that will be used for training.\n",
        "- **test.txt**: This file contains the absolute path of images—one image path\n",
        "per line—that will be used for testing.\n",
        "- **class.data**: This file contains a list of names of the object classes—one\n",
        "name per line.\n",
        "- **labels**: This directory is in the same location where train.txt and test.txt are located. This labels directory contains annotation files, one file per image. The file name in this directory must be the same as the image file name, except that it has the extension .txt.\n",
        "\n",
        "For example, if the image file name is `Abyssinian_1.jpg`, the annotation file name in the labels directory must be `Abyssinian_1.txt`. Each annotation text file must contain the annotated bounding box and object class in one single line in the following format:\n",
        "\n",
        "```python\n",
        "<object-class> <x_center> <y_center> <width> <height>\n",
        "```\n",
        "\n",
        "where\n",
        "- `<object-class>` is the integer class index of the object, from 0 to (num_\n",
        "class-1).\n",
        "- `<x_center> and <y_center>` are float values representing the center of\n",
        "the bounding boxes relative to the image height and width.\n",
        "- `<width> <height>` are the width and height of bounding boxes relative\n",
        "to the image height and width.\n",
        "\n",
        "Note that the entries in this file are separated by blank spaces and not\n",
        "by commas or any other delimiters.\n",
        "\n",
        "An example entry of the annotation text file is as follows (ensure the fields are separated by white space and not comma or any other delimiter.):\n",
        "\n",
        "```python\n",
        "10 0.63 0.28500000000000003 0.28500000000000003 0.215\n",
        "```"
      ]
    },
    {
      "cell_type": "code",
      "metadata": {
        "id": "AAvao7J_uqyQ"
      },
      "source": [
        "# Converting Image Annotations from XML to TXT\n"
      ],
      "execution_count": null,
      "outputs": []
    }
  ]
}