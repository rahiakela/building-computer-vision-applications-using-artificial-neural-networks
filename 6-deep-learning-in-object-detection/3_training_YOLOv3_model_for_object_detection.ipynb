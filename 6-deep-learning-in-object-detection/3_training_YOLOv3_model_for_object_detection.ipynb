{
  "nbformat": 4,
  "nbformat_minor": 0,
  "metadata": {
    "colab": {
      "name": "3-training-YOLOv3-model-for-object-detection.ipynb",
      "provenance": [],
      "authorship_tag": "ABX9TyN+ruvLD8tk48TjWlepFokO",
      "include_colab_link": true
    },
    "kernelspec": {
      "name": "python3",
      "display_name": "Python 3"
    }
  },
  "cells": [
    {
      "cell_type": "markdown",
      "metadata": {
        "id": "view-in-github",
        "colab_type": "text"
      },
      "source": [
        "<a href=\"https://colab.research.google.com/github/rahiakela/building-computer-vision-applications-using-artificial-neural-networks/blob/master/6-deep-learning-in-object-detection/3_training_YOLOv3_model_for_object_detection.ipynb\" target=\"_parent\"><img src=\"https://colab.research.google.com/assets/colab-badge.svg\" alt=\"Open In Colab\"/></a>"
      ]
    },
    {
      "cell_type": "markdown",
      "metadata": {
        "id": "sikCBUVyiD79"
      },
      "source": [
        "# Training a YOLOv3 Model for Object Detection"
      ]
    },
    {
      "cell_type": "markdown",
      "metadata": {
        "id": "_LJR1KskiRLk"
      },
      "source": [
        "YOLOv3 is the youngest of all the object detection algorithms.It has not made it to the TensorFlow object detection API yet.YOLOv3 uses the Darknet-53 architecture to train the model.\n",
        "\n",
        "We will use the official API and weights of the pretrained model to perform transfer learning of our YOLOv3 model from the same Oxford-IIIT Pet dataset that we used in the previous SSD model. We will run the training on Google Colab and use a GPU hardware accelerator."
      ]
    },
    {
      "cell_type": "markdown",
      "metadata": {
        "id": "U7JIoxCfiq2f"
      },
      "source": [
        "## Installing the Darknet Framework"
      ]
    },
    {
      "cell_type": "markdown",
      "metadata": {
        "id": "SyqDop9eirtJ"
      },
      "source": [
        "Darknet is an open source neural network framework written in C and CUDA that runs on both CPUs and GPUs. First, clone the Darknet GitHub repository and then build the source."
      ]
    },
    {
      "cell_type": "code",
      "metadata": {
        "id": "O00SkYDYiwBj"
      },
      "source": [
        "%%shell\n",
        "\n",
        "git clone https://github.com/ansarisam/darknet.git\n",
        "# Official repository\n",
        "#git clone https://github.com/pjreddie/darknet.git"
      ],
      "execution_count": null,
      "outputs": []
    }
  ]
}