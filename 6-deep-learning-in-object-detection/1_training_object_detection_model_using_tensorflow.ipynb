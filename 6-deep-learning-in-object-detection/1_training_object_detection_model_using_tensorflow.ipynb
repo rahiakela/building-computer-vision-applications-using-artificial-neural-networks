{
  "nbformat": 4,
  "nbformat_minor": 0,
  "metadata": {
    "colab": {
      "name": "1-training-object-detection-model-using-tensorflow.ipynb",
      "provenance": [],
      "authorship_tag": "ABX9TyNvr1aE1/LmoRkxFbRV6qrs",
      "include_colab_link": true
    },
    "kernelspec": {
      "name": "python3",
      "display_name": "Python 3"
    }
  },
  "cells": [
    {
      "cell_type": "markdown",
      "metadata": {
        "id": "view-in-github",
        "colab_type": "text"
      },
      "source": [
        "<a href=\"https://colab.research.google.com/github/rahiakela/building-computer-vision-applications-using-artificial-neural-networks/blob/master/6-deep-learning-in-object-detection/1_training_object_detection_model_using_tensorflow.ipynb\" target=\"_parent\"><img src=\"https://colab.research.google.com/assets/colab-badge.svg\" alt=\"Open In Colab\"/></a>"
      ]
    },
    {
      "cell_type": "markdown",
      "metadata": {
        "id": "TLAgkS5dxqXv"
      },
      "source": [
        "# Training Object Detection Model Using TensorFlow"
      ]
    },
    {
      "cell_type": "markdown",
      "metadata": {
        "id": "nPFYKi-3x6lT"
      },
      "source": [
        "Object detection models are very compute-intensive and require both a lot of memory and a powerful processor. Most general-purpose laptops or computers may not be able to handle the computations necessary to build and train an object detection model.\n",
        "\n",
        "Thankfully, Google provides a limited amount of GPU-based computing\n",
        "for free. It has been proven that these models run many folds faster on a GPU than on a CPU. Therefore, it is important to learn how to train a model on a GPU.\n",
        "\n",
        "Let’s first define what our learning objective is and how we want to achieve it.\n",
        "\n",
        "- **Objective**: Learn how to train an object detection model using Keras\n",
        "and TensorFlow.\n",
        "- **Dataset**: The Oxford-IIIT Pet dataset, which is freely available at\n",
        "robots.ox.ac.uk/~vgg/data/pets/. The dataset consists of 37\n",
        "categories of pets with roughly 200 images for each class. The images\n",
        "have large variations in scale, pose, and lighting. They are already\n",
        "annotated with bounding boxes and labeled.\n",
        "\n",
        "- **Important note**: At the time of writing this book, TensorFlow version 2\n",
        "does not support the training of custom models for object detection.\n",
        "Therefore, we will use TensorFlow version 1.15 to train the model.\n",
        "The TensorFlow team and the open source community are working to migrate the version 1 code to support the training of custom object\n",
        "detection models in version 2."
      ]
    },
    {
      "cell_type": "markdown",
      "metadata": {
        "id": "T7chFZGByvAI"
      },
      "source": [
        "## Setup"
      ]
    },
    {
      "cell_type": "markdown",
      "metadata": {
        "id": "berX4OAjywWX"
      },
      "source": [
        "Google Colab is an interactive programming environment and does not give direct\n",
        "access to the underlying operating system. You can invoke the shell using `%%shell`, which remains active within a single block of code cells it is invoked from. You can invoke the shell from as many code blocks as needed.\n",
        "\n",
        "To set up our environment, we will follow the following steps:\n",
        "\n",
        "1. Install the necessary libraries needed to execute our TensorFlow\n",
        "code and train our model."
      ]
    },
    {
      "cell_type": "code",
      "metadata": {
        "id": "89DJBbH1zJz6"
      },
      "source": [
        "# Installing the Necessary Libraries and Packages\n",
        "%%shell\n",
        "%tensorflow_version 1.x\n",
        "sudo apt-get install protobuf-compiler python-pil python-lxml python-tk\n",
        "pip install --user Cython\n",
        "pip install --user contextlib2\n",
        "pip install --user pillow\n",
        "pip install --user lxml\n",
        "pip install --user matplotlib"
      ],
      "execution_count": null,
      "outputs": []
    },
    {
      "cell_type": "markdown",
      "metadata": {
        "id": "ggF_mcsUz7-L"
      },
      "source": [
        "2. Download the TensorFlow “models” project from the GitHub repository, and build and install it in your working environment."
      ]
    },
    {
      "cell_type": "code",
      "metadata": {
        "id": "FKPvps0YzqKK"
      },
      "source": [
        "# Downloading the TensorFlow Models Project, Building It, and Setting It Up\n",
        "%%shell\n",
        "mkdir computer_vision\n",
        "cd computer_vision\n",
        "git clone https://github.com/ansarisam/models.git\n",
        "# Official repository\n",
        "# git clone https://github.com/tensorflow/models.git\n",
        "\n",
        "# The research directory contains a large number of models that are created and maintained by researchers and not officially supported yet.\n",
        "cd models/research\n",
        "\n",
        "# builds the object detection–related source code using the Protobuf compiler.\n",
        "protoc object_detection/protos/*.proto --python_out=.\n",
        "\n",
        "# set the PYTHONPATH environment variable to the research and research/slim directories.\n",
        "export PYTHONPATH=$PYTHONPATH:/content/computer_vision/models/research\n",
        "export PYTHONPATH=$PYTHONPATH:/content/computer_vision/models/research/slim\n",
        "\n",
        "# executes a build command using setup.py\n",
        "python setup.py build\n",
        "# installs the object detection models in our working environment.\n",
        "python setup.py install"
      ],
      "execution_count": null,
      "outputs": []
    },
    {
      "cell_type": "markdown",
      "metadata": {
        "id": "GVBSxXS514VA"
      },
      "source": [
        "## Downloading the Oxford-IIIT Pet Dataset"
      ]
    },
    {
      "cell_type": "markdown",
      "metadata": {
        "id": "8VXDsiCJ15Gn"
      },
      "source": [
        ""
      ]
    }
  ]
}