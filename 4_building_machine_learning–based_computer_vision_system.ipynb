{
  "nbformat": 4,
  "nbformat_minor": 0,
  "metadata": {
    "colab": {
      "name": "4-building-machine-learning–based-computer-vision-system.ipynb",
      "provenance": [],
      "authorship_tag": "ABX9TyPPAQOcOlSM8F4wPm4poyyf",
      "include_colab_link": true
    },
    "kernelspec": {
      "name": "python3",
      "display_name": "Python 3"
    }
  },
  "cells": [
    {
      "cell_type": "markdown",
      "metadata": {
        "id": "view-in-github",
        "colab_type": "text"
      },
      "source": [
        "<a href=\"https://colab.research.google.com/github/rahiakela/building-computer-vision-applications-using-artificial-neural-networks/blob/master/4_building_machine_learning%E2%80%93based_computer_vision_system.ipynb\" target=\"_parent\"><img src=\"https://colab.research.google.com/assets/colab-badge.svg\" alt=\"Open In Colab\"/></a>"
      ]
    },
    {
      "cell_type": "markdown",
      "metadata": {
        "id": "iTuyWgeOWe2j"
      },
      "source": [
        "# Building a Machine Learning–Based Computer Vision System"
      ]
    },
    {
      "cell_type": "markdown",
      "metadata": {
        "id": "1xC6-eaXWxPO"
      },
      "source": [
        "Computer vision (CV) is the ability of computers to capture and analyze images and make interpretations and decisions about it. For example, CV can be used to detect and recognize images and to identify patterns or objects within them. \n",
        "\n",
        "An artificial intelligence (AI) system ingests images, processes them, extracts features, and makes interpretation about them. In other words, images move from one system or component to another and get transformed into various forms for machines to recognize patterns and detect objects in them.\n",
        "\n",
        "Images are processed across a set of components performing various types of\n",
        "transformations that result in a final product. This process is known as the image processing pipeline or computer vision pipeline.\n",
        "\n"
      ]
    }
  ]
}